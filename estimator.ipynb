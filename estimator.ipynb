{
 "cells": [
  {
   "cell_type": "code",
   "execution_count": 12,
   "id": "a4b9cb28-ea27-4130-9f23-532ebbc53bac",
   "metadata": {
    "tags": []
   },
   "outputs": [
    {
     "data": {
      "text/plain": [
       "'\\nO : Optimistic Estimate. Everything goes as planned, nothing as come into the way. In the chart example, O = 2.\\n\\nN : Nominal Estimate. The value with the highest probability, in our example, N = 3.\\n\\nP : Pessimistic Estimate. Everything goes wrong, very low percentage of chance to append. P = 10.\\n'"
      ]
     },
     "execution_count": 12,
     "metadata": {},
     "output_type": "execute_result"
    }
   ],
   "source": [
    "\"\"\"\n",
    "O : Optimistic Estimate. Everything goes as planned, nothing as come into the way. In the chart example, O = 2.\n",
    "\n",
    "N : Nominal Estimate. The value with the highest probability, in our example, N = 3.\n",
    "\n",
    "P : Pessimistic Estimate. Everything goes wrong, very low percentage of chance to append. P = 10.\n",
    "\"\"\""
   ]
  },
  {
   "cell_type": "code",
   "execution_count": 13,
   "id": "d75b6647-1fff-4f29-87b3-19f3c2a18404",
   "metadata": {
    "tags": []
   },
   "outputs": [],
   "source": [
    "class TaskTimeDevelopmentEstimator:\n",
    "    def __init__(self, optimistic_estimate, nominal_estimate, pesimistic_estimate):\n",
    "        self.__optimistic_estimate = optimistic_estimate\n",
    "        self.__nominal_estimate = nominal_estimate\n",
    "        self.__pesimistic_estimate = pesimistic_estimate\n",
    "    \n",
    "    def get_expected_duration(self):\n",
    "        return (self.__optimistic_estimate + (4.00 * self.__nominal_estimate) + self.__pesimistic_estimate) / 6.00\n",
    "    \n",
    "    def get_standard_deviation(self):\n",
    "        return (self.__pesimistic_estimate - self.__optimistic_estimate) / 6.00\n",
    "    \n",
    "    def get_general_time_estimation(self):\n",
    "        return self.get_expected_duration() + self.get_standard_deviation()\n",
    "    "
   ]
  },
  {
   "cell_type": "code",
   "execution_count": 18,
   "id": "4c7bcd25-3d6d-4d61-b1fa-7e9648e721d1",
   "metadata": {
    "tags": []
   },
   "outputs": [
    {
     "data": {
      "text/plain": [
       "3.1666666666666665"
      ]
     },
     "execution_count": 18,
     "metadata": {},
     "output_type": "execute_result"
    }
   ],
   "source": [
    "estimator = TaskTimeDevelopmentEstimator(5, 1.5, 8)"
   ]
  },
  {
   "cell_type": "code",
   "execution_count": 20,
   "id": "3d1fce05-97fd-49dd-9921-5947ba9098c4",
   "metadata": {
    "tags": []
   },
   "outputs": [
    {
     "data": {
      "text/plain": [
       "3.1666666666666665"
      ]
     },
     "execution_count": 20,
     "metadata": {},
     "output_type": "execute_result"
    }
   ],
   "source": [
    "estimator.get_expected_duration()"
   ]
  },
  {
   "cell_type": "code",
   "execution_count": 21,
   "id": "94a08ee0-d1fa-44b3-b31d-d036ecc4a867",
   "metadata": {
    "tags": []
   },
   "outputs": [
    {
     "data": {
      "text/plain": [
       "0.5"
      ]
     },
     "execution_count": 21,
     "metadata": {},
     "output_type": "execute_result"
    }
   ],
   "source": [
    "estimator.get_standard_deviation()"
   ]
  },
  {
   "cell_type": "code",
   "execution_count": 22,
   "id": "1250f650-051b-49ad-8d09-53063da4f5c9",
   "metadata": {
    "tags": []
   },
   "outputs": [
    {
     "data": {
      "text/plain": [
       "3.6666666666666665"
      ]
     },
     "execution_count": 22,
     "metadata": {},
     "output_type": "execute_result"
    }
   ],
   "source": [
    "estimator.get_general_time_estimation()"
   ]
  }
 ],
 "metadata": {
  "kernelspec": {
   "display_name": "Python 3 (ipykernel)",
   "language": "python",
   "name": "python3"
  },
  "language_info": {
   "codemirror_mode": {
    "name": "ipython",
    "version": 3
   },
   "file_extension": ".py",
   "mimetype": "text/x-python",
   "name": "python",
   "nbconvert_exporter": "python",
   "pygments_lexer": "ipython3",
   "version": "3.10.8"
  }
 },
 "nbformat": 4,
 "nbformat_minor": 5
}
